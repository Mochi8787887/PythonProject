{
 "cells": [
  {
   "cell_type": "code",
   "execution_count": 2,
   "id": "864e2aef-5587-488a-b70d-617038103a2e",
   "metadata": {
    "tags": []
   },
   "outputs": [
    {
     "name": "stdout",
     "output_type": "stream",
     "text": [
      "Epoch 1/5\n",
      "938/938 [==============================] - 2s 2ms/step - loss: 0.2251 - accuracy: 0.9354\n",
      "Epoch 2/5\n",
      "938/938 [==============================] - 2s 2ms/step - loss: 0.0898 - accuracy: 0.9732\n",
      "Epoch 3/5\n",
      "938/938 [==============================] - 2s 2ms/step - loss: 0.0583 - accuracy: 0.9826\n",
      "Epoch 4/5\n",
      "938/938 [==============================] - 2s 2ms/step - loss: 0.0406 - accuracy: 0.9875\n",
      "Epoch 5/5\n",
      "938/938 [==============================] - 2s 2ms/step - loss: 0.0294 - accuracy: 0.9911\n",
      "313/313 [==============================] - 0s 954us/step - loss: 0.0732 - accuracy: 0.9784\n",
      "Test accuracy: 0.9783999919891357\n"
     ]
    }
   ],
   "source": [
    "# 引入 NumPy庫並使用 \"np\" 別名，用於數組和矩陣處理\n",
    "import numpy as np\n",
    "\n",
    "# 引入 TensorFlow深度學習框架並使用 \"tf\" 別名\n",
    "import tensorflow as tf\n",
    "\n",
    "# 引入 TensorFlow 的 Keras 模型和層次結構\n",
    "from tensorflow.keras import layers, models\n",
    "\n",
    "# 引入手寫數字 MNIST數據集\n",
    "from tensorflow.keras.datasets import mnist\n",
    "\n",
    "# 引入將標籤轉換為獨熱編碼的函數\n",
    "from tensorflow.keras.utils import to_categorical\n",
    "\n",
    "# 載入MNIST數據集\n",
    "(train_images, train_labels), (test_images, test_labels) = mnist.load_data()\n",
    "\n",
    "# 數據預處理\n",
    "\n",
    "# 圖片形狀調整為(樣本數, 圖像長度, 圖像寬度, 圖像通道數)\n",
    "train_images = train_images.reshape((60000, 28, 28, 1))\n",
    "test_images = test_images.reshape((10000, 28, 28, 1))\n",
    "\n",
    "# 歸一化(Normalization)\n",
    "train_images = train_images.astype('float32') / 255\n",
    "test_images = test_images.astype('float32') / 255\n",
    "\n",
    "# 標籤轉換\n",
    "train_labels = to_categorical(train_labels)\n",
    "test_labels = to_categorical(test_labels)\n",
    "\n",
    "# 建立神經網絡模型\n",
    "\n",
    "# 創建了一個名為 model 的神經網絡模型\n",
    "model = models.Sequential()\n",
    "\n",
    "# 將圖像展平成一維數組\n",
    "model.add(layers.Flatten(input_shape=(28, 28, 1)))  \n",
    "\n",
    "# 512個神經元的全連接層\n",
    "model.add(layers.Dense(512, activation='relu'))  \n",
    "\n",
    "# 10個神經元的全連接層（用於10個類別的分類）\n",
    "model.add(layers.Dense(10, activation='softmax'))  \n",
    "\n",
    "# 編譯模型\n",
    "model.compile(optimizer='adam',\n",
    "              loss='categorical_crossentropy',\n",
    "              metrics=['accuracy'])\n",
    "\n",
    "# 訓練模型\n",
    "# 參數對應(丟入訓練集images檔, 丟入訓練集labels檔, 訓練次數, 每次訓練的檔案數）\n",
    "model.fit(train_images, train_labels, epochs=5, batch_size=64)\n",
    "\n",
    "# 評估模型\n",
    "test_loss, test_acc = model.evaluate(test_images, test_labels)\n",
    "print('Test accuracy:', test_acc)"
   ]
  },
  {
   "cell_type": "code",
   "execution_count": null,
   "id": "bbdea44e-8abf-4062-bab4-549695981d1d",
   "metadata": {},
   "outputs": [],
   "source": []
  }
 ],
 "metadata": {
  "kernelspec": {
   "display_name": "Python 3 (ipykernel)",
   "language": "python",
   "name": "python3"
  },
  "language_info": {
   "codemirror_mode": {
    "name": "ipython",
    "version": 3
   },
   "file_extension": ".py",
   "mimetype": "text/x-python",
   "name": "python",
   "nbconvert_exporter": "python",
   "pygments_lexer": "ipython3",
   "version": "3.11.5"
  }
 },
 "nbformat": 4,
 "nbformat_minor": 5
}
